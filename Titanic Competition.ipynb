{
 "cells": [
  {
   "cell_type": "markdown",
   "metadata": {},
   "source": [
    "# Titanic Kaggle Competition\n",
    "\n",
    "The Titanic is one of the most well-known stories of tragedy in which a brand new ship, one of the largest of its time, historically sank in its maiden voyage  crossing the Atlantic Ocean.\n",
    "\n",
    "The goal of this project is to construct a model to predict the likelihood of survival based on a set of features associated with each person. I intend to try several models to verify the abilities of each algorithm and identify the pros and cons of each one."
   ]
  },
  {
   "cell_type": "markdown",
   "metadata": {},
   "source": [
    "## Background\n",
    "\n",
    "The Titanic sank with a majority of its travelers due lack of lifeboats to satisfy the amount of passengers and crew on board. The story describes a policy of \"Women and Children\" first focusing on the perceived most vulnerable population. Several factors remain important including socioeconomic and staff versis passenger."
   ]
  },
  {
   "cell_type": "code",
   "execution_count": 1,
   "metadata": {},
   "outputs": [
    {
     "name": "stdout",
     "output_type": "stream",
     "text": [
      "   PassengerId  Survived  Pclass  \\\n",
      "0            1         0       3   \n",
      "1            2         1       1   \n",
      "2            3         1       3   \n",
      "3            4         1       1   \n",
      "4            5         0       3   \n",
      "\n",
      "                                                Name     Sex   Age  SibSp  \\\n",
      "0                            Braund, Mr. Owen Harris    male  22.0      1   \n",
      "1  Cumings, Mrs. John Bradley (Florence Briggs Th...  female  38.0      1   \n",
      "2                             Heikkinen, Miss. Laina  female  26.0      0   \n",
      "3       Futrelle, Mrs. Jacques Heath (Lily May Peel)  female  35.0      1   \n",
      "4                           Allen, Mr. William Henry    male  35.0      0   \n",
      "\n",
      "   Parch            Ticket     Fare Cabin Embarked  \n",
      "0      0         A/5 21171   7.2500   NaN        S  \n",
      "1      0          PC 17599  71.2833   C85        C  \n",
      "2      0  STON/O2. 3101282   7.9250   NaN        S  \n",
      "3      0            113803  53.1000  C123        S  \n",
      "4      0            373450   8.0500   NaN        S  \n"
     ]
    }
   ],
   "source": [
    "# Import various data\n",
    "import numpy as np\n",
    "import pandas as pd\n",
    "\n",
    "titanic_set = pd.read_csv('./dataset/train.csv')\n",
    "print(titanic_set.head())"
   ]
  },
  {
   "cell_type": "code",
   "execution_count": 2,
   "metadata": {},
   "outputs": [
    {
     "name": "stdout",
     "output_type": "stream",
     "text": [
      "   PassengerId  Survived  Pclass     Sex   Age  SibSp  Parch     Fare Embarked\n",
      "0            1         0       3    male  22.0      1      0   7.2500        S\n",
      "1            2         1       1  female  38.0      1      0  71.2833        C\n",
      "2            3         1       3  female  26.0      0      0   7.9250        S\n",
      "3            4         1       1  female  35.0      1      0  53.1000        S\n",
      "4            5         0       3    male  35.0      0      0   8.0500        S\n"
     ]
    }
   ],
   "source": [
    "# Analyzing the Results, we can remove irrelevant information that can be quantitized.\n",
    "# For this, we will remove the name, ticket definitely. The cabin number is confusing\n",
    "# because it may indicate place on the titanic. For now, we will remove the cabin from the list\n",
    "\n",
    "usable_fields = titanic_set.columns.drop(['Name','Ticket', 'Cabin'])\n",
    "usable_titanic_dataset = titanic_set[usable_fields].copy()\n",
    "print(usable_titanic_dataset.head())"
   ]
  },
  {
   "cell_type": "code",
   "execution_count": 5,
   "metadata": {},
   "outputs": [
    {
     "name": "stdout",
     "output_type": "stream",
     "text": [
      "   PassengerId  Survived  Pclass Sex   Age  SibSp  Parch     Fare Embarked\n",
      "0            1         0       3   0  22.0      1      0   7.2500        0\n",
      "1            2         1       1   1  38.0      1      0  71.2833        1\n",
      "2            3         1       3   1  26.0      0      0   7.9250        0\n",
      "3            4         1       1   1  35.0      1      0  53.1000        0\n",
      "4            5         0       3   0  35.0      0      0   8.0500        0\n"
     ]
    }
   ],
   "source": [
    "# Categorize relevant data columns. Specifically, the Sex, Embarkation and\n",
    "# information about sibling\n",
    "male_rows = usable_titanic_dataset['Sex'] == 'male'\n",
    "female_rows = usable_titanic_dataset['Sex'] == 'female'\n",
    "usable_titanic_dataset.loc[male_rows, 'Sex'] = 0\n",
    "usable_titanic_dataset.loc[female_rows, 'Sex'] = 1\n",
    "\n",
    "S_rows = usable_titanic_dataset['Embarked'] == 'S'\n",
    "C_rows = usable_titanic_dataset['Embarked'] == 'C'\n",
    "Q_rows = usable_titanic_dataset['Embarked'] == 'Q'\n",
    "usable_titanic_dataset.loc[S_rows, 'Embarked'] = 0\n",
    "usable_titanic_dataset.loc[C_rows, 'Embarked'] = 1\n",
    "usable_titanic_dataset.loc[Q_rows, 'Embarked'] = 1\n",
    "\n",
    "print(usable_titanic_dataset.head())"
   ]
  },
  {
   "cell_type": "code",
   "execution_count": 7,
   "metadata": {},
   "outputs": [
    {
     "name": "stdout",
     "output_type": "stream",
     "text": [
      "     PassengerId  Survived  Pclass Sex   Age  SibSp  Parch  Fare Embarked\n",
      "61            62         1       1   1  38.0      0      0  80.0      NaN\n",
      "829          830         1       1   1  62.0      0      0  80.0      NaN\n"
     ]
    }
   ],
   "source": [
    "print(usable_titanic_dataset[usable_titanic_dataset[usable_titanic_dataset.columns.drop(['Age'])].isna().any(axis=1)])"
   ]
  },
  {
   "cell_type": "code",
   "execution_count": null,
   "metadata": {},
   "outputs": [],
   "source": [
    "Y = titanic_set['Survived']\n",
    "\n",
    "from sklearn import tree\n",
    "clf = tree.DecisionTreeClassifier()\n",
    "clf = clf.fit(X, Y)\n",
    "\n",
    "titanic_set = pd.read_csv('./dataset/test.csv')\n",
    "NEW_X = titanic_set[['Pclass', 'Sex', 'Age']]\n",
    "NEW_X.loc[NEW_X['Sex'] == 'male', 'Sex'] = 0\n",
    "NEW_X.loc[NEW_X['Sex'] == 'female', 'Sex'] = 1\n",
    "NEW_X.loc[NEW_X['Age'] < 18, 'Age'] = 1\n",
    "NEW_X.loc[NEW_X['Sex'] >= 18, 'Age'] = 0\n",
    "NEW_X.loc[np.isnan(NEW_X['Age'])] = 0\n",
    "print(NEW_X)"
   ]
  },
  {
   "cell_type": "code",
   "execution_count": null,
   "metadata": {},
   "outputs": [],
   "source": [
    "predictions = clf.predict(NEW_X)"
   ]
  },
  {
   "cell_type": "code",
   "execution_count": null,
   "metadata": {},
   "outputs": [],
   "source": [
    "print(titanic_set)"
   ]
  },
  {
   "cell_type": "code",
   "execution_count": null,
   "metadata": {},
   "outputs": [],
   "source": []
  }
 ],
 "metadata": {
  "kernelspec": {
   "display_name": "Python 3",
   "language": "python",
   "name": "python3"
  },
  "language_info": {
   "codemirror_mode": {
    "name": "ipython",
    "version": 3
   },
   "file_extension": ".py",
   "mimetype": "text/x-python",
   "name": "python",
   "nbconvert_exporter": "python",
   "pygments_lexer": "ipython3",
   "version": "3.8.2"
  }
 },
 "nbformat": 4,
 "nbformat_minor": 4
}
